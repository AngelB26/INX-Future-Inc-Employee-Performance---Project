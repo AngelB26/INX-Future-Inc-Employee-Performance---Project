{
 "cells": [
  {
   "cell_type": "code",
   "execution_count": 5,
   "id": "8b590b20",
   "metadata": {},
   "outputs": [
    {
     "name": "stdout",
     "output_type": "stream",
     "text": [
      "Visualization libraries imported successfully!\n"
     ]
    }
   ],
   "source": [
    "# INX Employee Performance Analysis -\n",
    "# visualizations for your prediction results\n",
    "\n",
    "import pandas as pd\n",
    "import numpy as np\n",
    "import matplotlib.pyplot as plt\n",
    "import seaborn as sns\n",
    "import plotly.express as px\n",
    "import plotly.graph_objects as go\n",
    "from plotly.subplots import make_subplots\n",
    "import warnings\n",
    "warnings.filterwarnings('ignore')\n",
    "\n",
    "# Set style for better visualizations\n",
    "plt.style.use('default')\n",
    "sns.set_palette(\"husl\")\n",
    "\n",
    "print(\"Visualization libraries imported successfully!\")"
   ]
  },
  {
   "cell_type": "code",
   "execution_count": 9,
   "id": "82d9eff0",
   "metadata": {},
   "outputs": [
    {
     "name": "stdout",
     "output_type": "stream",
     "text": [
      "Configuration loaded!\n"
     ]
    }
   ],
   "source": [
    "\n",
    "PREDICTIONS_PATH = r'C:\\Users\\aksha\\OneDrive\\Documents\\Asha\\Projects\\Employment_Performance_Analysis\\Data\\processed\\employee_predictions.csv'\n",
    "X_TEST_PATH = r\"C:\\Users\\aksha\\OneDrive\\Documents\\Asha\\Projects\\Employment_Performance_Analysis\\Data\\processed\\X_test_selected.csv\"\n",
    "MODEL_PATH = r'C:\\Users\\aksha\\OneDrive\\Documents\\Asha\\Projects\\Employment_Performance_Analysis\\Source Code\\models\\best_model.pkl'  \n",
    "\n",
    "FEATURE_IMPORTANCE_PATH = r'C:\\Users\\aksha\\OneDrive\\Documents\\Asha\\Projects\\Employment_Performance_Analysis\\Data\\processed\\feature_importance.csv'\n",
    "MODEL_COMPARISON_PATH = r'C:\\Users\\aksha\\OneDrive\\Documents\\Asha\\Projects\\Employment_Performance_Analysis\\Data\\processed\\model_results.csv'\n",
    "\n",
    "print(\"Configuration loaded!\")\n"
   ]
  },
  {
   "cell_type": "code",
   "execution_count": 10,
   "id": "fe5c8cce",
   "metadata": {},
   "outputs": [],
   "source": [
    "# =============================================================================\n",
    "# LOAD PREDICTION RESULTS\n",
    "# =============================================================================\n",
    "\n",
    "def load_prediction_results():\n",
    "    \"\"\"Load your prediction results and test data\"\"\"\n",
    "    \n",
    "    try:\n",
    "        # Load main prediction results\n",
    "        predictions_df = pd.read_csv(PREDICTIONS_PATH)\n",
    "        print(f\"✓ Prediction results loaded: {predictions_df.shape}\")\n",
    "        \n",
    "        # Ensure we have the required columns\n",
    "        required_cols = ['Predicted_Rating', 'Predicted_Category']\n",
    "        missing_cols = [col for col in required_cols if col not in predictions_df.columns]\n",
    "        \n",
    "        if missing_cols:\n",
    "            print(f\"⚠️  Missing columns: {missing_cols}\")\n",
    "            # Add missing columns if needed\n",
    "            if 'Predicted_Category' not in predictions_df.columns and 'Predicted_Rating' in predictions_df.columns:\n",
    "                rating_map = {1: 'Poor', 2: 'Below Average', 3: 'Average', 4: 'Good', 5: 'Excellent'}\n",
    "                predictions_df['Predicted_Category'] = predictions_df['Predicted_Rating'].map(rating_map)\n",
    "                print(\"✓ Added Predicted_Category column\")\n",
    "        \n",
    "        return predictions_df\n",
    "        \n",
    "    except FileNotFoundError:\n",
    "        print(f\"❌ Prediction results not found at: {PREDICTIONS_PATH}\")\n",
    "        print(\"Please run your prediction script first to generate results\")\n",
    "        return None"
   ]
  },
  {
   "cell_type": "code",
   "execution_count": 11,
   "id": "9af69cd8",
   "metadata": {},
   "outputs": [],
   "source": [
    "def load_additional_data():\n",
    "    \"\"\"Load additional data for enhanced visualizations\"\"\"\n",
    "    \n",
    "    feature_importance = None\n",
    "    model_comparison = None\n",
    "    model_features = None\n",
    "\n",
    "    # Load feature importance if available\n",
    "    if FEATURE_IMPORTANCE_PATH:\n",
    "        try:\n",
    "            feature_importance = pd.read_csv(FEATURE_IMPORTANCE_PATH)\n",
    "            print(\"✓ Feature importance loaded\")\n",
    "        except FileNotFoundError:\n",
    "            print(\"⚠️  Feature importance file not found\")\n",
    "    \n",
    "    # Load model comparison if available\n",
    "    if MODEL_COMPARISON_PATH:\n",
    "        try:\n",
    "            model_comparison = pd.read_csv(MODEL_COMPARISON_PATH)\n",
    "            print(\"✓ Model comparison loaded\")\n",
    "        except FileNotFoundError:\n",
    "            print(\"⚠️  Model comparison file not found\")\n",
    "    \n",
    "    # Try to load model for feature importance extraction\n",
    "    try:\n",
    "        import joblib\n",
    "        model = joblib.load(MODEL_PATH)\n",
    "        if hasattr(model, 'feature_importances_'):\n",
    "            X_test = pd.read_csv(X_TEST_PATH)\n",
    "            model_features = pd.DataFrame({\n",
    "                'feature': X_test.columns,\n",
    "                'importance': model.feature_importances_\n",
    "            }).sort_values('importance', ascending=False)\n",
    "            print(\"✓ Feature importance extracted from model\")\n",
    "    except Exception as e:\n",
    "        print(f\"ℹ  Could not extract feature importance from model: {e}\")\n",
    "    \n",
    "    # Fix ambiguous return\n",
    "    if feature_importance is not None and not feature_importance.empty:\n",
    "        return feature_importance, model_comparison\n",
    "    elif model_features is not None and not model_features.empty:\n",
    "        return model_features, model_comparison\n",
    "    else:\n",
    "        return pd.DataFrame(), model_comparison"
   ]
  },
  {
   "cell_type": "code",
   "execution_count": 12,
   "id": "0922cf86",
   "metadata": {},
   "outputs": [
    {
     "name": "stdout",
     "output_type": "stream",
     "text": [
      "✓ Prediction results loaded: (240, 26)\n",
      "✓ Feature importance loaded\n",
      "✓ Model comparison loaded\n",
      "✓ Feature importance extracted from model\n"
     ]
    }
   ],
   "source": [
    "# Load all data\n",
    "predictions_df = load_prediction_results()\n",
    "feature_importance, model_comparison = load_additional_data()"
   ]
  },
  {
   "cell_type": "code",
   "execution_count": 13,
   "id": "7f476424",
   "metadata": {},
   "outputs": [],
   "source": [
    "# =============================================================================\n",
    "# 1. PREDICTION DISTRIBUTION VISUALIZATIONS\n",
    "# =============================================================================\n",
    "\n",
    "def create_prediction_distribution_plots(predictions_df):\n",
    "    \"\"\"Create comprehensive prediction distribution visualizations\"\"\"\n",
    "    \n",
    "    print(\"\\n\" + \"=\"*50)\n",
    "    print(\"CREATING PREDICTION DISTRIBUTION PLOTS...\")\n",
    "    print(\"=\"*50)\n",
    "    \n",
    "    # Create subplots\n",
    "    fig, axes = plt.subplots(2, 2, figsize=(16, 12))\n",
    "    fig.suptitle('INX Employee Performance - Prediction Distribution Analysis', \n",
    "                 fontsize=16, fontweight='bold')\n",
    "    \n",
    "    # Define colors\n",
    "    colors = ['#FF6B6B', '#FFA726', '#FFEB3B', '#66BB6A', '#4CAF50']\n",
    "    \n",
    "    # 1. Rating Distribution Bar Chart\n",
    "    rating_counts = predictions_df['Predicted_Rating'].value_counts().sort_index()\n",
    "    bars = axes[0,0].bar(rating_counts.index, rating_counts.values, \n",
    "                        color=colors[:len(rating_counts)], alpha=0.8, edgecolor='black')\n",
    "    axes[0,0].set_title('Distribution of Predicted Performance Ratings', \n",
    "                       fontsize=12, fontweight='bold')\n",
    "    axes[0,0].set_xlabel('Performance Rating')\n",
    "    axes[0,0].set_ylabel('Number of Employees')\n",
    "    axes[0,0].grid(True, alpha=0.3)\n",
    "    \n",
    "    # Add value labels on bars\n",
    "    for bar, count in zip(bars, rating_counts.values):\n",
    "        axes[0,0].text(bar.get_x() + bar.get_width()/2, bar.get_height() + 1,\n",
    "                      str(count), ha='center', va='bottom', fontweight='bold')\n",
    "    \n",
    "    # 2. Category Distribution Pie Chart\n",
    "    category_counts = predictions_df['Predicted_Category'].value_counts()\n",
    "    wedges, texts, autotexts = axes[0,1].pie(category_counts.values, labels=category_counts.index, \n",
    "                                            autopct='%1.1f%%', colors=colors[:len(category_counts)], \n",
    "                                            startangle=90)\n",
    "    axes[0,1].set_title('Performance Rating Categories Distribution', \n",
    "                       fontsize=12, fontweight='bold')\n",
    "    \n",
    "    # Make percentage text bold\n",
    "    for autotext in autotexts:\n",
    "        autotext.set_fontweight('bold')\n",
    "    \n",
    "    # 3. Prediction Statistics\n",
    "    axes[1,0].axis('off')\n",
    "    \n",
    "    # Calculate statistics\n",
    "    total_employees = len(predictions_df)\n",
    "    avg_rating = predictions_df['Predicted_Rating'].mean()\n",
    "    rating_std = predictions_df['Predicted_Rating'].std()\n",
    "    \n",
    "    stats_text = f\"\"\"PREDICTION STATISTICS\n",
    "\n",
    "Total Employees Analyzed: {total_employees:,}\n",
    "\n",
    "Average Predicted Rating: {avg_rating:.2f}\n",
    "Standard Deviation: {rating_std:.2f}\n",
    "\n",
    "Rating Breakdown:\n",
    "\"\"\"\n",
    "    \n",
    "    for rating, count in rating_counts.items():\n",
    "        percentage = (count / total_employees) * 100\n",
    "        rating_name = {1: 'Poor', 2: 'Below Average', 3: 'Average', 4: 'Good', 5: 'Excellent'}[rating]\n",
    "        stats_text += f\"• {rating_name} ({rating}): {count:,} ({percentage:.1f}%)\\n\"\n",
    "    \n",
    "    # Add high/low performers\n",
    "    high_performers = (predictions_df['Predicted_Rating'] >= 4).sum()\n",
    "    low_performers = (predictions_df['Predicted_Rating'] <= 2).sum()\n",
    "    \n",
    "    stats_text += f\"\"\"\n",
    "KEY INSIGHTS:\n",
    "• High Performers (4-5): {high_performers:,} ({high_performers/total_employees*100:.1f}%)\n",
    "• Low Performers (1-2): {low_performers:,} ({low_performers/total_employees*100:.1f}%)\n",
    "• Retention Focus Needed: {low_performers:,} employees\n",
    "\"\"\"\n",
    "    \n",
    "    axes[1,0].text(0.1, 0.9, stats_text, transform=axes[1,0].transAxes, \n",
    "                  fontsize=10, verticalalignment='top', fontfamily='monospace',\n",
    "                  bbox=dict(boxstyle=\"round,pad=0.5\", facecolor=\"lightblue\", alpha=0.7))\n",
    "    \n",
    "    # 4. Rating Trend Analysis (if Employee_ID exists)\n",
    "    if 'Employee_ID' in predictions_df.columns:\n",
    "        # Sample employees to show trend\n",
    "        sample_size = min(50, len(predictions_df))\n",
    "        sample_df = predictions_df.sample(sample_size).sort_values('Employee_ID')\n",
    "        \n",
    "        axes[1,1].plot(sample_df['Employee_ID'], sample_df['Predicted_Rating'], \n",
    "                      marker='o', linestyle='-', alpha=0.7, color='steelblue')\n",
    "        axes[1,1].set_title(f'Performance Rating Pattern (Sample of {sample_size} employees)', \n",
    "                           fontsize=12, fontweight='bold')\n",
    "        axes[1,1].set_xlabel('Employee ID')\n",
    "        axes[1,1].set_ylabel('Predicted Rating')\n",
    "        axes[1,1].grid(True, alpha=0.3)\n",
    "    else:\n",
    "        # Show rating distribution histogram instead\n",
    "        axes[1,1].hist(predictions_df['Predicted_Rating'], bins=5, \n",
    "                      color='steelblue', alpha=0.7, edgecolor='black')\n",
    "        axes[1,1].set_title('Performance Rating Frequency', \n",
    "                           fontsize=12, fontweight='bold')\n",
    "        axes[1,1].set_xlabel('Performance Rating')\n",
    "        axes[1,1].set_ylabel('Frequency')\n",
    "        axes[1,1].grid(True, alpha=0.3)\n",
    "    \n",
    "    plt.tight_layout()\n",
    "    plt.show()\n",
    "    print(\"✓ Prediction distribution plots created successfully\")\n"
   ]
  },
  {
   "cell_type": "code",
   "execution_count": 14,
   "id": "dd95dbd9",
   "metadata": {},
   "outputs": [
    {
     "name": "stdout",
     "output_type": "stream",
     "text": [
      "\n",
      "==================================================\n",
      "CREATING PREDICTION DISTRIBUTION PLOTS...\n",
      "==================================================\n"
     ]
    },
    {
     "data": {
      "image/png": "[encoded data removed]",
      "text/plain": [
       "<Figure size 1600x1200 with 4 Axes>"
      ]
     },
     "metadata": {},
     "output_type": "display_data"
    },
    {
     "name": "stdout",
     "output_type": "stream",
     "text": [
      "✓ Prediction distribution plots created successfully\n"
     ]
    }
   ],
   "source": [
    "# Create prediction distribution plots\n",
    "create_prediction_distribution_plots(predictions_df)"
   ]
  },
  {
   "cell_type": "code",
   "execution_count": 15,
   "id": "36940c80",
   "metadata": {},
   "outputs": [
    {
     "name": "stdout",
     "output_type": "stream",
     "text": [
      "\n",
      "==================================================\n",
      "CREATING FEATURE ANALYSIS PLOTS...\n",
      "==================================================\n"
     ]
    },
    {
     "data": {
      "image/png": "[encoded data removed]",
      "text/plain": [
       "<Figure size 1800x1200 with 6 Axes>"
      ]
     },
     "metadata": {},
     "output_type": "display_data"
    },
    {
     "name": "stdout",
     "output_type": "stream",
     "text": [
      "✓ Feature analysis plots created successfully\n"
     ]
    }
   ],
   "source": [
    "# =============================================================================\n",
    "# 2. FEATURE ANALYSIS VISUALIZATIONS\n",
    "# =============================================================================\n",
    "\n",
    "def create_feature_analysis_plots(predictions_df):\n",
    "    \"\"\"Create feature-based analysis plots\"\"\"\n",
    "    \n",
    "    print(\"\\n\" + \"=\"*50)\n",
    "    print(\"CREATING FEATURE ANALYSIS PLOTS...\")\n",
    "    print(\"=\"*50)\n",
    "    \n",
    "    # Find key features in the data\n",
    "    feature_cols = [col for col in predictions_df.columns \n",
    "                   if col not in ['Employee_ID', 'Predicted_Rating', 'Predicted_Category', \n",
    "                                'Actual_Rating', 'Actual_Category', 'Correct_Prediction']]\n",
    "    \n",
    "    if len(feature_cols) == 0:\n",
    "        print(\"⚠️  No feature columns found for analysis\")\n",
    "        return\n",
    "    \n",
    "    # Create subplots\n",
    "    n_plots = min(6, len(feature_cols))  # Show max 6 features\n",
    "    fig, axes = plt.subplots(2, 3, figsize=(18, 12))\n",
    "    fig.suptitle('INX Employee Performance - Feature Analysis', \n",
    "                 fontsize=16, fontweight='bold')\n",
    "    axes = axes.ravel()\n",
    "    \n",
    "    # Select key features to analyze\n",
    "    key_features = []\n",
    "    priority_features = ['EmpWorkLifeBalance', 'TrainingTimesLastYear', 'EmpLastSalaryHikePercent',\n",
    "                        'Age', 'TotalWorkExperienceInYears', 'OverTime_Yes']\n",
    "    \n",
    "    # Add priority features first\n",
    "    for feat in priority_features:\n",
    "        if feat in feature_cols:\n",
    "            key_features.append(feat)\n",
    "    \n",
    "    # Add other features if needed\n",
    "    for feat in feature_cols:\n",
    "        if feat not in key_features and len(key_features) < n_plots:\n",
    "            key_features.append(feat)\n",
    "    \n",
    "    key_features = key_features[:n_plots]\n",
    "    \n",
    "    for i, feature in enumerate(key_features):\n",
    "        if i >= n_plots:\n",
    "            break\n",
    "            \n",
    "        # Check if feature is categorical (binary encoded) or continuous\n",
    "        unique_vals = predictions_df[feature].nunique()\n",
    "        \n",
    "        if unique_vals <= 5:  # Categorical feature\n",
    "            # Box plot for categorical features\n",
    "            feature_groups = predictions_df.groupby(feature)['Predicted_Rating'].apply(list)\n",
    "            \n",
    "            box_data = [feature_groups[val] if val in feature_groups.index else [] \n",
    "                       for val in sorted(predictions_df[feature].unique())]\n",
    "            box_labels = [f'{feature}={val}' for val in sorted(predictions_df[feature].unique())]\n",
    "            \n",
    "            axes[i].boxplot(box_data, labels=box_labels)\n",
    "            axes[i].set_title(f'Performance by {feature}', fontsize=10, fontweight='bold')\n",
    "            axes[i].set_ylabel('Predicted Rating')\n",
    "            axes[i].grid(True, alpha=0.3)\n",
    "            \n",
    "        else:  # Continuous feature\n",
    "            # Scatter plot for continuous features\n",
    "            scatter = axes[i].scatter(predictions_df[feature], predictions_df['Predicted_Rating'],\n",
    "                                    alpha=0.6, c=predictions_df['Predicted_Rating'], \n",
    "                                    cmap='RdYlGn', s=30)\n",
    "            axes[i].set_title(f'Performance vs {feature}', fontsize=10, fontweight='bold')\n",
    "            axes[i].set_xlabel(feature)\n",
    "            axes[i].set_ylabel('Predicted Rating')\n",
    "            axes[i].grid(True, alpha=0.3)\n",
    "    \n",
    "    # Hide unused subplots\n",
    "    for i in range(len(key_features), len(axes)):\n",
    "        axes[i].axis('off')\n",
    "    \n",
    "    plt.tight_layout()\n",
    "    plt.show()\n",
    "    print(\"✓ Feature analysis plots created successfully\")\n",
    "\n",
    "# Create feature analysis plots\n",
    "create_feature_analysis_plots(predictions_df)"
   ]
  },
  {
   "cell_type": "code",
   "execution_count": 16,
   "id": "3233e38f",
   "metadata": {},
   "outputs": [
    {
     "name": "stdout",
     "output_type": "stream",
     "text": [
      "\n",
      "==================================================\n",
      "CREATING DEPARTMENT AND ROLE ANALYSIS...\n",
      "==================================================\n"
     ]
    },
    {
     "data": {
      "image/png": "[encoded data removed]",
      "text/plain": [
       "<Figure size 1600x1200 with 4 Axes>"
      ]
     },
     "metadata": {},
     "output_type": "display_data"
    },
    {
     "name": "stdout",
     "output_type": "stream",
     "text": [
      "✓ Department and role analysis created successfully\n"
     ]
    }
   ],
   "source": [
    "# =============================================================================\n",
    "# 3. DEPARTMENT AND ROLE ANALYSIS\n",
    "# =============================================================================\n",
    "\n",
    "def create_department_role_analysis(predictions_df):\n",
    "    \"\"\"Create department and role-wise performance analysis\"\"\"\n",
    "    \n",
    "    print(\"\\n\" + \"=\"*50)\n",
    "    print(\"CREATING DEPARTMENT AND ROLE ANALYSIS...\")\n",
    "    print(\"=\"*50)\n",
    "    \n",
    "    # Find department and role columns\n",
    "    dept_cols = [col for col in predictions_df.columns if 'Department' in col]\n",
    "    role_cols = [col for col in predictions_df.columns if 'Role' in col or 'JobRole' in col]\n",
    "    \n",
    "    if not dept_cols and not role_cols:\n",
    "        print(\"⚠️  No department or role columns found\")\n",
    "        return\n",
    "    \n",
    "    # Create subplots\n",
    "    fig, axes = plt.subplots(2, 2, figsize=(16, 12))\n",
    "    fig.suptitle('INX Employee Performance - Department & Role Analysis', \n",
    "                 fontsize=16, fontweight='bold')\n",
    "    \n",
    "    # 1. Department-wise Performance Distribution\n",
    "    if dept_cols:\n",
    "        dept_performance = {}\n",
    "        for dept_col in dept_cols:\n",
    "            dept_name = dept_col.replace('EmpDepartment_', '')\n",
    "            dept_employees = predictions_df[predictions_df[dept_col] == 1]\n",
    "            if len(dept_employees) > 0:\n",
    "                dept_performance[dept_name] = dept_employees['Predicted_Rating'].tolist()\n",
    "        \n",
    "        if dept_performance:\n",
    "            dept_names = list(dept_performance.keys())\n",
    "            dept_ratings = list(dept_performance.values())\n",
    "            \n",
    "            box_plot = axes[0,0].boxplot(dept_ratings, labels=dept_names, patch_artist=True)\n",
    "            axes[0,0].set_title('Performance Distribution by Department', fontsize=12, fontweight='bold')\n",
    "            axes[0,0].set_ylabel('Predicted Rating')\n",
    "            axes[0,0].grid(True, alpha=0.3)\n",
    "            \n",
    "            # Color the boxes\n",
    "            colors = ['lightblue', 'lightgreen', 'lightcoral', 'lightyellow']\n",
    "            for patch, color in zip(box_plot['boxes'], colors):\n",
    "                patch.set_facecolor(color)\n",
    "    else:\n",
    "        axes[0,0].text(0.5, 0.5, 'No Department Data\\nAvailable', \n",
    "                      ha='center', va='center', transform=axes[0,0].transAxes)\n",
    "        axes[0,0].set_title('Department Analysis')\n",
    "    \n",
    "    # 2. Role-wise Performance Distribution\n",
    "    if role_cols:\n",
    "        role_performance = {}\n",
    "        for role_col in role_cols:\n",
    "            role_name = role_col.replace('EmpJobRole_', '')\n",
    "            role_employees = predictions_df[predictions_df[role_col] == 1]\n",
    "            if len(role_employees) > 0:\n",
    "                role_performance[role_name] = role_employees['Predicted_Rating'].tolist()\n",
    "        \n",
    "        if role_performance:\n",
    "            role_names = list(role_performance.keys())\n",
    "            role_ratings = list(role_performance.values())\n",
    "            \n",
    "            box_plot = axes[0,1].boxplot(role_ratings, labels=role_names, patch_artist=True)\n",
    "            axes[0,1].set_title('Performance Distribution by Job Role', fontsize=12, fontweight='bold')\n",
    "            axes[0,1].set_ylabel('Predicted Rating')\n",
    "            axes[0,1].grid(True, alpha=0.3)\n",
    "            \n",
    "            # Color the boxes\n",
    "            colors = ['lightblue', 'lightgreen', 'lightcoral', 'lightyellow']\n",
    "            for patch, color in zip(box_plot['boxes'], colors):\n",
    "                patch.set_facecolor(color)\n",
    "    else:\n",
    "        axes[0,1].text(0.5, 0.5, 'No Role Data\\nAvailable', \n",
    "                      ha='center', va='center', transform=axes[0,1].transAxes)\n",
    "        axes[0,1].set_title('Role Analysis')\n",
    "    \n",
    "    # 3. Average Performance by Department\n",
    "    if dept_cols:\n",
    "        dept_avg_performance = []\n",
    "        dept_names_clean = []\n",
    "        \n",
    "        for dept_col in dept_cols:\n",
    "            dept_name = dept_col.replace('EmpDepartment_', '')\n",
    "            dept_employees = predictions_df[predictions_df[dept_col] == 1]\n",
    "            if len(dept_employees) > 0:\n",
    "                avg_rating = dept_employees['Predicted_Rating'].mean()\n",
    "                dept_avg_performance.append(avg_rating)\n",
    "                dept_names_clean.append(dept_name)\n",
    "        \n",
    "        if dept_avg_performance:\n",
    "            bars = axes[1,0].bar(dept_names_clean, dept_avg_performance, \n",
    "                               color=['#FF6B6B', '#FFA726', '#66BB6A'], alpha=0.8)\n",
    "            axes[1,0].set_title('Average Performance Rating by Department', fontsize=12, fontweight='bold')\n",
    "            axes[1,0].set_ylabel('Average Predicted Rating')\n",
    "            axes[1,0].grid(True, alpha=0.3)\n",
    "            \n",
    "            # Add value labels\n",
    "            for bar, avg in zip(bars, dept_avg_performance):\n",
    "                axes[1,0].text(bar.get_x() + bar.get_width()/2, bar.get_height() + 0.05,\n",
    "                              f'{avg:.2f}', ha='center', va='bottom', fontweight='bold')\n",
    "    else:\n",
    "        axes[1,0].axis('off')\n",
    "    \n",
    "    # 4. Performance Summary Table\n",
    "    axes[1,1].axis('off')\n",
    "    \n",
    "    summary_text = \"DEPARTMENT & ROLE SUMMARY\\n\" + \"=\"*30 + \"\\n\\n\"\n",
    "    \n",
    "    if dept_cols:\n",
    "        summary_text += \"DEPARTMENT PERFORMANCE:\\n\"\n",
    "        for dept_col in dept_cols:\n",
    "            dept_name = dept_col.replace('EmpDepartment_', '')\n",
    "            dept_employees = predictions_df[predictions_df[dept_col] == 1]\n",
    "            if len(dept_employees) > 0:\n",
    "                avg_rating = dept_employees['Predicted_Rating'].mean()\n",
    "                count = len(dept_employees)\n",
    "                high_perf = (dept_employees['Predicted_Rating'] >= 4).sum()\n",
    "                summary_text += f\"• {dept_name}: {avg_rating:.2f} avg ({count} emp, {high_perf} high performers)\\n\"\n",
    "        summary_text += \"\\n\"\n",
    "    \n",
    "    if role_cols:\n",
    "        summary_text += \"ROLE PERFORMANCE:\\n\"\n",
    "        for role_col in role_cols:\n",
    "            role_name = role_col.replace('EmpJobRole_', '')\n",
    "            role_employees = predictions_df[predictions_df[role_col] == 1]\n",
    "            if len(role_employees) > 0:\n",
    "                avg_rating = role_employees['Predicted_Rating'].mean()\n",
    "                count = len(role_employees)\n",
    "                high_perf = (role_employees['Predicted_Rating'] >= 4).sum()\n",
    "                summary_text += f\"• {role_name}: {avg_rating:.2f} avg ({count} emp, {high_perf} high performers)\\n\"\n",
    "    \n",
    "    axes[1,1].text(0.1, 0.9, summary_text, transform=axes[1,1].transAxes, \n",
    "                  fontsize=10, verticalalignment='top', fontfamily='monospace',\n",
    "                  bbox=dict(boxstyle=\"round,pad=0.5\", facecolor=\"lightyellow\", alpha=0.7))\n",
    "    \n",
    "    plt.tight_layout()\n",
    "    plt.show()\n",
    "    print(\"✓ Department and role analysis created successfully\")\n",
    "\n",
    "# Create department and role analysis\n",
    "create_department_role_analysis(predictions_df)"
   ]
  },
  {
   "cell_type": "code",
   "execution_count": 17,
   "id": "8c60ffd4",
   "metadata": {},
   "outputs": [
    {
     "name": "stdout",
     "output_type": "stream",
     "text": [
      "\n",
      "==================================================\n",
      "CREATING FEATURE IMPORTANCE VISUALIZATION...\n",
      "==================================================\n"
     ]
    },
    {
     "data": {
      "image/png": "[encoded data removed]",
      "text/plain": [
       "<Figure size 1600x600 with 2 Axes>"
      ]
     },
     "metadata": {},
     "output_type": "display_data"
    },
    {
     "name": "stdout",
     "output_type": "stream",
     "text": [
      "✓ Feature importance visualization created successfully\n"
     ]
    }
   ],
   "source": [
    "# =============================================================================\n",
    "# 4. FEATURE IMPORTANCE VISUALIZATION\n",
    "# =============================================================================\n",
    "\n",
    "def create_feature_importance_plot(feature_importance):\n",
    "    \"\"\"Create feature importance visualization\"\"\"\n",
    "    \n",
    "    if feature_importance is None:\n",
    "        print(\"⚠️  No feature importance data available\")\n",
    "        return\n",
    "    \n",
    "    print(\"\\n\" + \"=\"*50)\n",
    "    print(\"CREATING FEATURE IMPORTANCE VISUALIZATION...\")\n",
    "    print(\"=\"*50)\n",
    "    \n",
    "    # Create figure\n",
    "    fig, axes = plt.subplots(1, 2, figsize=(16, 6))\n",
    "    fig.suptitle('INX Employee Performance - Feature Importance Analysis', \n",
    "                 fontsize=16, fontweight='bold')\n",
    "    \n",
    "    # Sort by importance\n",
    "    top_features = feature_importance.head(15)  # Top 15 features\n",
    "    \n",
    "    # 1. Horizontal bar chart\n",
    "    y_pos = np.arange(len(top_features))\n",
    "    axes[0].barh(y_pos, top_features['importance'], color='steelblue', alpha=0.8)\n",
    "    axes[0].set_yticks(y_pos)\n",
    "    axes[0].set_yticklabels(top_features['feature'])\n",
    "    axes[0].set_xlabel('Feature Importance')\n",
    "    axes[0].set_title('Top 15 Most Important Features', fontsize=12, fontweight='bold')\n",
    "    axes[0].grid(True, alpha=0.3)\n",
    "    \n",
    "    # Add value labels\n",
    "    for i, (_, row) in enumerate(top_features.iterrows()):\n",
    "        axes[0].text(row['importance'] + 0.001, i, f'{row[\"importance\"]:.3f}', \n",
    "                    va='center', fontsize=9)\n",
    "    \n",
    "    # 2. Pie chart for top 10 features\n",
    "    top_10 = feature_importance.head(10)\n",
    "    others_importance = feature_importance.iloc[10:]['importance'].sum()\n",
    "    \n",
    "    pie_data = list(top_10['importance']) + [others_importance]\n",
    "    pie_labels = list(top_10['feature']) + ['Others']\n",
    "    \n",
    "    colors = plt.cm.Set3(np.linspace(0, 1, len(pie_data)))\n",
    "    \n",
    "    axes[1].pie(pie_data, labels=pie_labels, autopct='%1.1f%%', \n",
    "               colors=colors, startangle=90)\n",
    "    axes[1].set_title('Feature Importance Distribution (Top 10 + Others)', \n",
    "                     fontsize=12, fontweight='bold')\n",
    "    \n",
    "    plt.tight_layout()\n",
    "    plt.show()\n",
    "    print(\"✓ Feature importance visualization created successfully\")\n",
    "\n",
    "# Create feature importance plot\n",
    "create_feature_importance_plot(feature_importance)"
   ]
  },
  {
   "cell_type": "code",
   "execution_count": 19,
   "id": "064ee46c",
   "metadata": {},
   "outputs": [
    {
     "name": "stdout",
     "output_type": "stream",
     "text": [
      "\n",
      "==================================================\n",
      "CREATING INTERACTIVE VISUALIZATIONS...\n",
      "==================================================\n"
     ]
    },
    {
     "data": {
      "application/vnd.plotly.v1+json": {
       "config": {
        "plotlyServerURL": "https://plot.ly"
       },
       "data": [
        {
         "bingroup": "x",
         "hovertemplate": "Predicted_Rating=%{x}<br>count=%{y}<extra></extra>",
         "legendgroup": "3",
         "marker": {
          "color": "rgb(141,211,199)",
          "pattern": {
           "shape": ""
          }
         },
         "name": "3",
         "orientation": "v",
         "showlegend": true,
         "type": "histogram",
         "x": {
          "bdata": "AwMDAwMDAwMDAwMDAwMDAwMDAwMDAwMDAwMDAwMDAwMDAwMDAwMDAwMDAwMDAwMDAwMDAwMDAwMDAwMDAwMDAwMDAwMDAwMDAwMDAwMDAwMDAwMDAwMDAwMDAwMDAwMDAwMDAwMDAwMDAwMDAwMDAwMDAwMDAwMDAwMDAwMDAwMDAwMDAwMDAwMDAwMDAwMDAwMDAwMDAwMDAwMDAwMDAwMDAwMDAwMDAwMDAwMDAwMDAwMDAw==",
          "dtype": "i1"
         },
         "xaxis": "x",
         "yaxis": "y"
        },
        {
         "bingroup": "x",
         "hovertemplate": "Predicted_Rating=%{x}<br>count=%{y}<extra></extra>",
         "legendgroup": "2",
         "marker": {
          "color": "rgb(255,255,179)",
          "pattern": {
           "shape": ""
          }
         },
         "name": "2",
         "orientation": "v",
         "showlegend": true,
         "type": "histogram",
         "x": {
          "bdata": "AgICAgICAgICAgICAgICAgICAgICAgICAgICAgICAgICAgICAgI=",
          "dtype": "i1"
         },
         "xaxis": "x",
         "yaxis": "y"
        },
        {
         "bingroup": "x",
         "hovertemplate": "Predicted_Rating=%{x}<br>count=%{y}<extra></extra>",
         "legendgroup": "4",
         "marker": {
          "color": "rgb(190,186,218)",
          "pattern": {
           "shape": ""
          }
         },
         "name": "4",
         "orientation": "v",
         "showlegend": true,
         "type": "histogram",
         "x": {
          "bdata": "BAQEBAQEBAQEBAQEBAQEBAQEBAQE",
          "dtype": "i1"
         },
         "xaxis": "x",
         "yaxis": "y"
        }
       ],
       "layout": {
        "barmode": "relative",
        "legend": {
         "title": {
          "text": "Predicted_Rating"
         },
         "tracegroupgap": 0
        },
        "showlegend": false,
        "template": {
         "data": {
          "bar": [
           {
            "error_x": {
             "color": "#2a3f5f"
            },
            "error_y": {
             "color": "#2a3f5f"
            },
            "marker": {
             "line": {
              "color": "#E5ECF6",
              "width": 0.5
             },
             "pattern": {
              "fillmode": "overlay",
              "size": 10,
              "solidity": 0.2
             }
            },
            "type": "bar"
           }
          ],
          "barpolar": [
           {
            "marker": {
             "line": {
              "color": "#E5ECF6",
              "width": 0.5
             },
             "pattern": {
              "fillmode": "overlay",
              "size": 10,
              "solidity": 0.2
             }
            },
            "type": "barpolar"
           }
          ],
          "carpet": [
           {
            "aaxis": {
             "endlinecolor": "#2a3f5f",
             "gridcolor": "white",
             "linecolor": "white",
             "minorgridcolor": "white",
             "startlinecolor": "#2a3f5f"
            },
            "baxis": {
             "endlinecolor": "#2a3f5f",
             "gridcolor": "white",
             "linecolor": "white",
             "minorgridcolor": "white",
             "startlinecolor": "#2a3f5f"
            },
            "type": "carpet"
           }
          ],
          "choropleth": [
           {
            "colorbar": {
             "outlinewidth": 0,
             "ticks": ""
            },
            "type": "choropleth"
           }
          ],
          "contour": [
           {
            "colorbar": {
             "outlinewidth": 0,
             "ticks": ""
            },
            "colorscale": [
             [
              0,
              "#0d0887"
             ],
             [
              0.1111111111111111,
              "#46039f"
             ],
             [
              0.2222222222222222,
              "#7201a8"
             ],
             [
              0.3333333333333333,
              "#9c179e"
             ],
             [
              0.4444444444444444,
              "#bd3786"
             ],
             [
              0.5555555555555556,
              "#d8576b"
             ],
             [
              0.6666666666666666,
              "#ed7953"
             ],
             [
              0.7777777777777778,
              "#fb9f3a"
             ],
             [
              0.8888888888888888,
              "#fdca26"
             ],
             [
              1,
              "#f0f921"
             ]
            ],
            "type": "contour"
           }
          ],
          "contourcarpet": [
           {
            "colorbar": {
             "outlinewidth": 0,
             "ticks": ""
            },
            "type": "contourcarpet"
           }
          ],
          "heatmap": [
           {
            "colorbar": {
             "outlinewidth": 0,
             "ticks": ""
            },
            "colorscale": [
             [
              0,
              "#0d0887"
             ],
             [
              0.1111111111111111,
              "#46039f"
             ],
             [
              0.2222222222222222,
              "#7201a8"
             ],
             [
              0.3333333333333333,
              "#9c179e"
             ],
             [
              0.4444444444444444,
              "#bd3786"
             ],
             [
              0.5555555555555556,
              "#d8576b"
             ],
             [
              0.6666666666666666,
              "#ed7953"
             ],
             [
              0.7777777777777778,
              "#fb9f3a"
             ],
             [
              0.8888888888888888,
              "#fdca26"
             ],
             [
              1,
              "#f0f921"
             ]
            ],
            "type": "heatmap"
           }
          ],
          "histogram": [
           {
            "marker": {
             "pattern": {
              "fillmode": "overlay",
              "size": 10,
              "solidity": 0.2
             }
            },
            "type": "histogram"
           }
          ],
          "histogram2d": [
           {
            "colorbar": {
             "outlinewidth": 0,
             "ticks": ""
            },
            "colorscale": [
             [
              0,
              "#0d0887"
             ],
             [
              0.1111111111111111,
              "#46039f"
             ],
             [
              0.2222222222222222,
              "#7201a8"
             ],
             [
              0.3333333333333333,
              "#9c179e"
             ],
             [
              0.4444444444444444,
              "#bd3786"
             ],
             [
              0.5555555555555556,
              "#d8576b"
             ],
             [
              0.6666666666666666,
              "#ed7953"
             ],
             [
              0.7777777777777778,
              "#fb9f3a"
             ],
             [
              0.8888888888888888,
              "#fdca26"
             ],
             [
              1,
              "#f0f921"
             ]
            ],
            "type": "histogram2d"
           }
          ],
          "histogram2dcontour": [
           {
            "colorbar": {
             "outlinewidth": 0,
             "ticks": ""
            },
            "colorscale": [
             [
              0,
              "#0d0887"
             ],
             [
              0.1111111111111111,
              "#46039f"
             ],
             [
              0.2222222222222222,
              "#7201a8"
             ],
             [
              0.3333333333333333,
              "#9c179e"
             ],
             [
              0.4444444444444444,
              "#bd3786"
             ],
             [
              0.5555555555555556,
              "#d8576b"
             ],
             [
              0.6666666666666666,
              "#ed7953"
             ],
             [
              0.7777777777777778,
              "#fb9f3a"
             ],
             [
              0.8888888888888888,
              "#fdca26"
             ],
             [
              1,
              "#f0f921"
             ]
            ],
            "type": "histogram2dcontour"
           }
          ],
          "mesh3d": [
           {
            "colorbar": {
             "outlinewidth": 0,
             "ticks": ""
            },
            "type": "mesh3d"
           }
          ],
          "parcoords": [
           {
            "line": {
             "colorbar": {
              "outlinewidth": 0,
              "ticks": ""
             }
            },
            "type": "parcoords"
           }
          ],
          "pie": [
           {
            "automargin": true,
            "type": "pie"
           }
          ],
          "scatter": [
           {
            "fillpattern": {
             "fillmode": "overlay",
             "size": 10,
             "solidity": 0.2
            },
            "type": "scatter"
           }
          ],
          "scatter3d": [
           {
            "line": {
             "colorbar": {
              "outlinewidth": 0,
              "ticks": ""
             }
            },
            "marker": {
             "colorbar": {
              "outlinewidth": 0,
              "ticks": ""
             }
            },
            "type": "scatter3d"
           }
          ],
          "scattercarpet": [
           {
            "marker": {
             "colorbar": {
              "outlinewidth": 0,
              "ticks": ""
             }
            },
            "type": "scattercarpet"
           }
          ],
          "scattergeo": [
           {
            "marker": {
             "colorbar": {
              "outlinewidth": 0,
              "ticks": ""
             }
            },
            "type": "scattergeo"
           }
          ],
          "scattergl": [
           {
            "marker": {
             "colorbar": {
              "outlinewidth": 0,
              "ticks": ""
             }
            },
            "type": "scattergl"
           }
          ],
          "scattermap": [
           {
            "marker": {
             "colorbar": {
              "outlinewidth": 0,
              "ticks": ""
             }
            },
            "type": "scattermap"
           }
          ],
          "scattermapbox": [
           {
            "marker": {
             "colorbar": {
              "outlinewidth": 0,
              "ticks": ""
             }
            },
            "type": "scattermapbox"
           }
          ],
          "scatterpolar": [
           {
            "marker": {
             "colorbar": {
              "outlinewidth": 0,
              "ticks": ""
             }
            },
            "type": "scatterpolar"
           }
          ],
          "scatterpolargl": [
           {
            "marker": {
             "colorbar": {
              "outlinewidth": 0,
              "ticks": ""
             }
            },
            "type": "scatterpolargl"
           }
          ],
          "scatterternary": [
           {
            "marker": {
             "colorbar": {
              "outlinewidth": 0,
              "ticks": ""
             }
            },
            "type": "scatterternary"
           }
          ],
          "surface": [
           {
            "colorbar": {
             "outlinewidth": 0,
             "ticks": ""
            },
            "colorscale": [
             [
              0,
              "#0d0887"
             ],
             [
              0.1111111111111111,
              "#46039f"
             ],
             [
              0.2222222222222222,
              "#7201a8"
             ],
             [
              0.3333333333333333,
              "#9c179e"
             ],
             [
              0.4444444444444444,
              "#bd3786"
             ],
             [
              0.5555555555555556,
              "#d8576b"
             ],
             [
              0.6666666666666666,
              "#ed7953"
             ],
             [
              0.7777777777777778,
              "#fb9f3a"
             ],
             [
              0.8888888888888888,
              "#fdca26"
             ],
             [
              1,
              "#f0f921"
             ]
            ],
            "type": "surface"
           }
          ],
          "table": [
           {
            "cells": {
             "fill": {
              "color": "#EBF0F8"
             },
             "line": {
              "color": "white"
             }
            },
            "header": {
             "fill": {
              "color": "#C8D4E3"
             },
             "line": {
              "color": "white"
             }
            },
            "type": "table"
           }
          ]
         },
         "layout": {
          "annotationdefaults": {
           "arrowcolor": "#2a3f5f",
           "arrowhead": 0,
           "arrowwidth": 1
          },
          "autotypenumbers": "strict",
          "coloraxis": {
           "colorbar": {
            "outlinewidth": 0,
            "ticks": ""
           }
          },
          "colorscale": {
           "diverging": [
            [
             0,
             "#8e0152"
            ],
            [
             0.1,
             "#c51b7d"
            ],
            [
             0.2,
             "#de77ae"
            ],
            [
             0.3,
             "#f1b6da"
            ],
            [
             0.4,
             "#fde0ef"
            ],
            [
             0.5,
             "#f7f7f7"
            ],
            [
             0.6,
             "#e6f5d0"
            ],
            [
             0.7,
             "#b8e186"
            ],
            [
             0.8,
             "#7fbc41"
            ],
            [
             0.9,
             "#4d9221"
            ],
            [
             1,
             "#276419"
            ]
           ],
           "sequential": [
            [
             0,
             "#0d0887"
            ],
            [
             0.1111111111111111,
             "#46039f"
            ],
            [
             0.2222222222222222,
             "#7201a8"
            ],
            [
             0.3333333333333333,
             "#9c179e"
            ],
            [
             0.4444444444444444,
             "#bd3786"
            ],
            [
             0.5555555555555556,
             "#d8576b"
            ],
            [
             0.6666666666666666,
             "#ed7953"
            ],
            [
             0.7777777777777778,
             "#fb9f3a"
            ],
            [
             0.8888888888888888,
             "#fdca26"
            ],
            [
             1,
             "#f0f921"
            ]
           ],
           "sequentialminus": [
            [
             0,
             "#0d0887"
            ],
            [
             0.1111111111111111,
             "#46039f"
            ],
            [
             0.2222222222222222,
             "#7201a8"
            ],
            [
             0.3333333333333333,
             "#9c179e"
            ],
            [
             0.4444444444444444,
             "#bd3786"
            ],
            [
             0.5555555555555556,
             "#d8576b"
            ],
            [
             0.6666666666666666,
             "#ed7953"
            ],
            [
             0.7777777777777778,
             "#fb9f3a"
            ],
            [
             0.8888888888888888,
             "#fdca26"
            ],
            [
             1,
             "#f0f921"
            ]
           ]
          },
          "colorway": [
           "#636efa",
           "#EF553B",
           "#00cc96",
           "#ab63fa",
           "#FFA15A",
           "#19d3f3",
           "#FF6692",
           "#B6E880",
           "#FF97FF",
           "#FECB52"
          ],
          "font": {
           "color": "#2a3f5f"
          },
          "geo": {
           "bgcolor": "white",
           "lakecolor": "white",
           "landcolor": "#E5ECF6",
           "showlakes": true,
           "showland": true,
           "subunitcolor": "white"
          },
          "hoverlabel": {
           "align": "left"
          },
          "hovermode": "closest",
          "mapbox": {
           "style": "light"
          },
          "paper_bgcolor": "white",
          "plot_bgcolor": "#E5ECF6",
          "polar": {
           "angularaxis": {
            "gridcolor": "white",
            "linecolor": "white",
            "ticks": ""
           },
           "bgcolor": "#E5ECF6",
           "radialaxis": {
            "gridcolor": "white",
            "linecolor": "white",
            "ticks": ""
           }
          },
          "scene": {
           "xaxis": {
            "backgroundcolor": "#E5ECF6",
            "gridcolor": "white",
            "gridwidth": 2,
            "linecolor": "white",
            "showbackground": true,
            "ticks": "",
            "zerolinecolor": "white"
           },
           "yaxis": {
            "backgroundcolor": "#E5ECF6",
            "gridcolor": "white",
            "gridwidth": 2,
            "linecolor": "white",
            "showbackground": true,
            "ticks": "",
            "zerolinecolor": "white"
           },
           "zaxis": {
            "backgroundcolor": "#E5ECF6",
            "gridcolor": "white",
            "gridwidth": 2,
            "linecolor": "white",
            "showbackground": true,
            "ticks": "",
            "zerolinecolor": "white"
           }
          },
          "shapedefaults": {
           "line": {
            "color": "#2a3f5f"
           }
          },
          "ternary": {
           "aaxis": {
            "gridcolor": "white",
            "linecolor": "white",
            "ticks": ""
           },
           "baxis": {
            "gridcolor": "white",
            "linecolor": "white",
            "ticks": ""
           },
           "bgcolor": "#E5ECF6",
           "caxis": {
            "gridcolor": "white",
            "linecolor": "white",
            "ticks": ""
           }
          },
          "title": {
           "x": 0.05
          },
          "xaxis": {
           "automargin": true,
           "gridcolor": "white",
           "linecolor": "white",
           "ticks": "",
           "title": {
            "standoff": 15
           },
           "zerolinecolor": "white",
           "zerolinewidth": 2
          },
          "yaxis": {
           "automargin": true,
           "gridcolor": "white",
           "linecolor": "white",
           "ticks": "",
           "title": {
            "standoff": 15
           },
           "zerolinecolor": "white",
           "zerolinewidth": 2
          }
         }
        },
        "title": {
         "text": "Interactive Performance Rating Distribution"
        },
        "xaxis": {
         "anchor": "y",
         "categoryarray": [
          3,
          2,
          4
         ],
         "categoryorder": "array",
         "domain": [
          0,
          1
         ],
         "title": {
          "text": "Predicted_Rating"
         }
        },
        "yaxis": {
         "anchor": "x",
         "domain": [
          0,
          1
         ],
         "title": {
          "text": "count"
         }
        }
       }
      }
     },
     "metadata": {},
     "output_type": "display_data"
    },
    {
     "data": {
      "application/vnd.plotly.v1+json": {
       "config": {
        "plotlyServerURL": "https://plot.ly"
       },
       "data": [
        {
         "customdata": [
          [
           "Average"
          ],
          [
           "Average"
          ],
          [
           "Average"
          ],
          [
           "Below Average"
          ],
          [
           "Average"
          ],
          [
           "Average"
          ],
          [
           "Below Average"
          ],
          [
           "Average"
          ],
          [
           "Average"
          ],
          [
           "Average"
          ],
          [
           "Average"
          ],
          [
           "Below Average"
          ],
          [
           "Average"
          ],
          [
           "Average"
          ],
          [
           "Average"
          ],
          [
           "Average"
          ],
          [
           "Average"
          ],
          [
           "Average"
          ],
          [
           "Average"
          ],
          [
           "Average"
          ],
          [
           "Average"
          ],
          [
           "Below Average"
          ],
          [
           "Average"
          ],
          [
           "Average"
          ],
          [
           "Average"
          ],
          [
           "Below Average"
          ],
          [
           "Good"
          ],
          [
           "Average"
          ],
          [
           "Average"
          ],
          [
           "Average"
          ],
          [
           "Average"
          ],
          [
           "Good"
          ],
          [
           "Average"
          ],
          [
           "Average"
          ],
          [
           "Average"
          ],
          [
           "Average"
          ],
          [
           "Average"
          ],
          [
           "Average"
          ],
          [
           "Good"
          ],
          [
           "Average"
          ],
          [
           "Average"
          ],
          [
           "Average"
          ],
          [
           "Average"
          ],
          [
           "Below Average"
          ],
          [
           "Average"
          ],
          [
           "Good"
          ],
          [
           "Good"
          ],
          [
           "Average"
          ],
          [
           "Average"
          ],
          [
           "Average"
          ],
          [
           "Average"
          ],
          [
           "Below Average"
          ],
          [
           "Average"
          ],
          [
           "Good"
          ],
          [
           "Average"
          ],
          [
           "Average"
          ],
          [
           "Average"
          ],
          [
           "Average"
          ],
          [
           "Average"
          ],
          [
           "Average"
          ],
          [
           "Average"
          ],
          [
           "Good"
          ],
          [
           "Good"
          ],
          [
           "Average"
          ],
          [
           "Average"
          ],
          [
           "Average"
          ],
          [
           "Below Average"
          ],
          [
           "Average"
          ],
          [
           "Average"
          ],
          [
           "Good"
          ],
          [
           "Average"
          ],
          [
           "Average"
          ],
          [
           "Average"
          ],
          [
           "Average"
          ],
          [
           "Average"
          ],
          [
           "Average"
          ],
          [
           "Average"
          ],
          [
           "Average"
          ],
          [
           "Average"
          ],
          [
           "Average"
          ],
          [
           "Average"
          ],
          [
           "Below Average"
          ],
          [
           "Average"
          ],
          [
           "Average"
          ],
          [
           "Average"
          ],
          [
           "Below Average"
          ],
          [
           "Average"
          ],
          [
           "Average"
          ],
          [
           "Average"
          ],
          [
           "Average"
          ],
          [
           "Average"
          ],
          [
           "Below Average"
          ],
          [
           "Good"
          ],
          [
           "Average"
          ],
          [
           "Average"
          ],
          [
           "Average"
          ],
          [
           "Average"
          ],
          [
           "Average"
          ],
          [
           "Below Average"
          ],
          [
           "Average"
          ],
          [
           "Average"
          ],
          [
           "Average"
          ],
          [
           "Good"
          ],
          [
           "Average"
          ],
          [
           "Average"
          ],
          [
           "Average"
          ],
          [
           "Below Average"
          ],
          [
           "Below Average"
          ],
          [
           "Below Average"
          ],
          [
           "Average"
          ],
          [
           "Average"
          ],
          [
           "Average"
          ],
          [
           "Good"
          ],
          [
           "Average"
          ],
          [
           "Average"
          ],
          [
           "Good"
          ],
          [
           "Average"
          ],
          [
           "Average"
          ],
          [
           "Average"
          ],
          [
           "Average"
          ],
          [
           "Average"
          ],
          [
           "Good"
          ],
          [
           "Average"
          ],
          [
           "Below Average"
          ],
          [
           "Average"
          ],
          [
           "Average"
          ],
          [
           "Below Average"
          ],
          [
           "Average"
          ],
          [
           "Average"
          ],
          [
           "Good"
          ],
          [
           "Average"
          ],
          [
           "Average"
          ],
          [
           "Average"
          ],
          [
           "Average"
          ],
          [
           "Average"
          ],
          [
           "Below Average"
          ],
          [
           "Average"
          ],
          [
           "Average"
          ],
          [
           "Average"
          ],
          [
           "Good"
          ],
          [
           "Average"
          ],
          [
           "Below Average"
          ],
          [
           "Below Average"
          ],
          [
           "Below Average"
          ],
          [
           "Average"
          ],
          [
           "Average"
          ],
          [
           "Average"
          ],
          [
           "Below Average"
          ],
          [
           "Average"
          ],
          [
           "Good"
          ],
          [
           "Average"
          ],
          [
           "Average"
          ],
          [
           "Average"
          ],
          [
           "Average"
          ],
          [
           "Average"
          ],
          [
           "Good"
          ],
          [
           "Average"
          ],
          [
           "Below Average"
          ],
          [
           "Average"
          ],
          [
           "Average"
          ],
          [
           "Average"
          ],
          [
           "Average"
          ],
          [
           "Average"
          ],
          [
           "Below Average"
          ],
          [
           "Average"
          ],
          [
           "Average"
          ],
          [
           "Average"
          ],
          [
           "Average"
          ],
          [
           "Average"
          ],
          [
           "Average"
          ],
          [
           "Good"
          ],
          [
           "Below Average"
          ],
          [
           "Average"
          ],
          [
           "Below Average"
          ],
          [
           "Average"
          ],
          [
           "Average"
          ],
          [
           "Average"
          ],
          [
           "Average"
          ],
          [
           "Below Average"
          ],
          [
           "Average"
          ],
          [
           "Average"
          ],
          [
           "Average"
          ],
          [
           "Average"
          ],
          [
           "Average"
          ],
          [
           "Average"
          ],
          [
           "Average"
          ],
          [
           "Average"
          ],
          [
           "Average"
          ],
          [
           "Average"
          ],
          [
           "Below Average"
          ],
          [
           "Average"
          ],
          [
           "Average"
          ],
          [
           "Average"
          ],
          [
           "Average"
          ],
          [
           "Average"
          ],
          [
           "Average"
          ],
          [
           "Average"
          ],
          [
           "Average"
          ],
          [
           "Average"
          ],
          [
           "Average"
          ],
          [
           "Below Average"
          ],
          [
           "Average"
          ],
          [
           "Average"
          ],
          [
           "Average"
          ],
          [
           "Below Average"
          ],
          [
           "Average"
          ],
          [
           "Average"
          ],
          [
           "Average"
          ],
          [
           "Average"
          ],
          [
           "Average"
          ],
          [
           "Average"
          ],
          [
           "Average"
          ],
          [
           "Average"
          ],
          [
           "Average"
          ],
          [
           "Average"
          ],
          [
           "Below Average"
          ],
          [
           "Below Average"
          ],
          [
           "Below Average"
          ],
          [
           "Below Average"
          ],
          [
           "Average"
          ],
          [
           "Good"
          ],
          [
           "Average"
          ],
          [
           "Below Average"
          ],
          [
           "Good"
          ],
          [
           "Average"
          ],
          [
           "Average"
          ],
          [
           "Average"
          ],
          [
           "Below Average"
          ],
          [
           "Average"
          ],
          [
           "Average"
          ],
          [
           "Average"
          ],
          [
           "Average"
          ],
          [
           "Average"
          ],
          [
           "Average"
          ],
          [
           "Average"
          ],
          [
           "Below Average"
          ],
          [
           "Average"
          ],
          [
           "Average"
          ],
          [
           "Average"
          ],
          [
           "Below Average"
          ]
         ],
         "hovertemplate": "EmpLastSalaryHikePercent=%{x}<br>ExperienceYearsInCurrentRole=%{y}<br>Predicted_Category=%{customdata[0]}<br>Predicted_Rating=%{marker.color}<extra></extra>",
         "legendgroup": "",
         "marker": {
          "color": {
           "bdata": "AwMDAgMDAgMDAwMCAwMDAwMDAwMDAgMDAwIEAwMDAwQDAwMDAwMEAwMDAwIDBAQDAwMDAgMEAwMDAwMDAwQEAwMDAgMDBAMDAwMDAwMDAwMDAgMDAwIDAwMDAwIEAwMDAwMCAwMDBAMDAwICAgMDAwQDAwQDAwMDAwQDAgMDAgMDBAMDAwMDAgMDAwQDAgICAwMDAgMEAwMDAwMEAwIDAwMDAwIDAwMDAwMEAgMCAwMDAwIDAwMDAwMDAwMDAgMDAwMDAwMDAwMCAwMDAgMDAwMDAwMDAwMCAgICAwQDAgQDAwMCAwMDAwMDAwIDAwMC",
           "dtype": "i1"
          },
          "coloraxis": "coloraxis",
          "symbol": "circle"
         },
         "mode": "markers",
         "name": "",
         "orientation": "v",
         "showlegend": false,
         "type": "scatter",
         "x": {
          "bdata": "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",
          "dtype": "f8"
         },
         "xaxis": "x",
         "y": {
          "bdata": "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",
          "dtype": "f8"
         },
         "yaxis": "y"
        }
       ],
       "layout": {
        "coloraxis": {
         "colorbar": {
          "title": {
           "text": "Predicted_Rating"
          }
         },
         "colorscale": [
          [
           0,
           "rgb(165,0,38)"
          ],
          [
           0.1,
           "rgb(215,48,39)"
          ],
          [
           0.2,
           "rgb(244,109,67)"
          ],
          [
           0.3,
           "rgb(253,174,97)"
          ],
          [
           0.4,
           "rgb(254,224,139)"
          ],
          [
           0.5,
           "rgb(255,255,191)"
          ],
          [
           0.6,
           "rgb(217,239,139)"
          ],
          [
           0.7,
           "rgb(166,217,106)"
          ],
          [
           0.8,
           "rgb(102,189,99)"
          ],
          [
           0.9,
           "rgb(26,152,80)"
          ],
          [
           1,
           "rgb(0,104,55)"
          ]
         ]
        },
        "legend": {
         "tracegroupgap": 0
        },
        "template": {
         "data": {
          "bar": [
           {
            "error_x": {
             "color": "#2a3f5f"
            },
            "error_y": {
             "color": "#2a3f5f"
            },
            "marker": {
             "line": {
              "color": "#E5ECF6",
              "width": 0.5
             },
             "pattern": {
              "fillmode": "overlay",
              "size": 10,
              "solidity": 0.2
             }
            },
            "type": "bar"
           }
          ],
          "barpolar": [
           {
            "marker": {
             "line": {
              "color": "#E5ECF6",
              "width": 0.5
             },
             "pattern": {
              "fillmode": "overlay",
              "size": 10,
              "solidity": 0.2
             }
            },
            "type": "barpolar"
           }
          ],
          "carpet": [
           {
            "aaxis": {
             "endlinecolor": "#2a3f5f",
             "gridcolor": "white",
             "linecolor": "white",
             "minorgridcolor": "white",
             "startlinecolor": "#2a3f5f"
            },
            "baxis": {
             "endlinecolor": "#2a3f5f",
             "gridcolor": "white",
             "linecolor": "white",
             "minorgridcolor": "white",
             "startlinecolor": "#2a3f5f"
            },
            "type": "carpet"
           }
          ],
          "choropleth": [
           {
            "colorbar": {
             "outlinewidth": 0,
             "ticks": ""
            },
            "type": "choropleth"
           }
          ],
          "contour": [
           {
            "colorbar": {
             "outlinewidth": 0,
             "ticks": ""
            },
            "colorscale": [
             [
              0,
              "#0d0887"
             ],
             [
              0.1111111111111111,
              "#46039f"
             ],
             [
              0.2222222222222222,
              "#7201a8"
             ],
             [
              0.3333333333333333,
              "#9c179e"
             ],
             [
              0.4444444444444444,
              "#bd3786"
             ],
             [
              0.5555555555555556,
              "#d8576b"
             ],
             [
              0.6666666666666666,
              "#ed7953"
             ],
             [
              0.7777777777777778,
              "#fb9f3a"
             ],
             [
              0.8888888888888888,
              "#fdca26"
             ],
             [
              1,
              "#f0f921"
             ]
            ],
            "type": "contour"
           }
          ],
          "contourcarpet": [
           {
            "colorbar": {
             "outlinewidth": 0,
             "ticks": ""
            },
            "type": "contourcarpet"
           }
          ],
          "heatmap": [
           {
            "colorbar": {
             "outlinewidth": 0,
             "ticks": ""
            },
            "colorscale": [
             [
              0,
              "#0d0887"
             ],
             [
              0.1111111111111111,
              "#46039f"
             ],
             [
              0.2222222222222222,
              "#7201a8"
             ],
             [
              0.3333333333333333,
              "#9c179e"
             ],
             [
              0.4444444444444444,
              "#bd3786"
             ],
             [
              0.5555555555555556,
              "#d8576b"
             ],
             [
              0.6666666666666666,
              "#ed7953"
             ],
             [
              0.7777777777777778,
              "#fb9f3a"
             ],
             [
              0.8888888888888888,
              "#fdca26"
             ],
             [
              1,
              "#f0f921"
             ]
            ],
            "type": "heatmap"
           }
          ],
          "histogram": [
           {
            "marker": {
             "pattern": {
              "fillmode": "overlay",
              "size": 10,
              "solidity": 0.2
             }
            },
            "type": "histogram"
           }
          ],
          "histogram2d": [
           {
            "colorbar": {
             "outlinewidth": 0,
             "ticks": ""
            },
            "colorscale": [
             [
              0,
              "#0d0887"
             ],
             [
              0.1111111111111111,
              "#46039f"
             ],
             [
              0.2222222222222222,
              "#7201a8"
             ],
             [
              0.3333333333333333,
              "#9c179e"
             ],
             [
              0.4444444444444444,
              "#bd3786"
             ],
             [
              0.5555555555555556,
              "#d8576b"
             ],
             [
              0.6666666666666666,
              "#ed7953"
             ],
             [
              0.7777777777777778,
              "#fb9f3a"
             ],
             [
              0.8888888888888888,
              "#fdca26"
             ],
             [
              1,
              "#f0f921"
             ]
            ],
            "type": "histogram2d"
           }
          ],
          "histogram2dcontour": [
           {
            "colorbar": {
             "outlinewidth": 0,
             "ticks": ""
            },
            "colorscale": [
             [
              0,
              "#0d0887"
             ],
             [
              0.1111111111111111,
              "#46039f"
             ],
             [
              0.2222222222222222,
              "#7201a8"
             ],
             [
              0.3333333333333333,
              "#9c179e"
             ],
             [
              0.4444444444444444,
              "#bd3786"
             ],
             [
              0.5555555555555556,
              "#d8576b"
             ],
             [
              0.6666666666666666,
              "#ed7953"
             ],
             [
              0.7777777777777778,
              "#fb9f3a"
             ],
             [
              0.8888888888888888,
              "#fdca26"
             ],
             [
              1,
              "#f0f921"
             ]
            ],
            "type": "histogram2dcontour"
           }
          ],
          "mesh3d": [
           {
            "colorbar": {
             "outlinewidth": 0,
             "ticks": ""
            },
            "type": "mesh3d"
           }
          ],
          "parcoords": [
           {
            "line": {
             "colorbar": {
              "outlinewidth": 0,
              "ticks": ""
             }
            },
            "type": "parcoords"
           }
          ],
          "pie": [
           {
            "automargin": true,
            "type": "pie"
           }
          ],
          "scatter": [
           {
            "fillpattern": {
             "fillmode": "overlay",
             "size": 10,
             "solidity": 0.2
            },
            "type": "scatter"
           }
          ],
          "scatter3d": [
           {
            "line": {
             "colorbar": {
              "outlinewidth": 0,
              "ticks": ""
             }
            },
            "marker": {
             "colorbar": {
              "outlinewidth": 0,
              "ticks": ""
             }
            },
            "type": "scatter3d"
           }
          ],
          "scattercarpet": [
           {
            "marker": {
             "colorbar": {
              "outlinewidth": 0,
              "ticks": ""
             }
            },
            "type": "scattercarpet"
           }
          ],
          "scattergeo": [
           {
            "marker": {
             "colorbar": {
              "outlinewidth": 0,
              "ticks": ""
             }
            },
            "type": "scattergeo"
           }
          ],
          "scattergl": [
           {
            "marker": {
             "colorbar": {
              "outlinewidth": 0,
              "ticks": ""
             }
            },
            "type": "scattergl"
           }
          ],
          "scattermap": [
           {
            "marker": {
             "colorbar": {
              "outlinewidth": 0,
              "ticks": ""
             }
            },
            "type": "scattermap"
           }
          ],
          "scattermapbox": [
           {
            "marker": {
             "colorbar": {
              "outlinewidth": 0,
              "ticks": ""
             }
            },
            "type": "scattermapbox"
           }
          ],
          "scatterpolar": [
           {
            "marker": {
             "colorbar": {
              "outlinewidth": 0,
              "ticks": ""
             }
            },
            "type": "scatterpolar"
           }
          ],
          "scatterpolargl": [
           {
            "marker": {
             "colorbar": {
              "outlinewidth": 0,
              "ticks": ""
             }
            },
            "type": "scatterpolargl"
           }
          ],
          "scatterternary": [
           {
            "marker": {
             "colorbar": {
              "outlinewidth": 0,
              "ticks": ""
             }
            },
            "type": "scatterternary"
           }
          ],
          "surface": [
           {
            "colorbar": {
             "outlinewidth": 0,
             "ticks": ""
            },
            "colorscale": [
             [
              0,
              "#0d0887"
             ],
             [
              0.1111111111111111,
              "#46039f"
             ],
             [
              0.2222222222222222,
              "#7201a8"
             ],
             [
              0.3333333333333333,
              "#9c179e"
             ],
             [
              0.4444444444444444,
              "#bd3786"
             ],
             [
              0.5555555555555556,
              "#d8576b"
             ],
             [
              0.6666666666666666,
              "#ed7953"
             ],
             [
              0.7777777777777778,
              "#fb9f3a"
             ],
             [
              0.8888888888888888,
              "#fdca26"
             ],
             [
              1,
              "#f0f921"
             ]
            ],
            "type": "surface"
           }
          ],
          "table": [
           {
            "cells": {
             "fill": {
              "color": "#EBF0F8"
             },
             "line": {
              "color": "white"
             }
            },
            "header": {
             "fill": {
              "color": "#C8D4E3"
             },
             "line": {
              "color": "white"
             }
            },
            "type": "table"
           }
          ]
         },
         "layout": {
          "annotationdefaults": {
           "arrowcolor": "#2a3f5f",
           "arrowhead": 0,
           "arrowwidth": 1
          },
          "autotypenumbers": "strict",
          "coloraxis": {
           "colorbar": {
            "outlinewidth": 0,
            "ticks": ""
           }
          },
          "colorscale": {
           "diverging": [
            [
             0,
             "#8e0152"
            ],
            [
             0.1,
             "#c51b7d"
            ],
            [
             0.2,
             "#de77ae"
            ],
            [
             0.3,
             "#f1b6da"
            ],
            [
             0.4,
             "#fde0ef"
            ],
            [
             0.5,
             "#f7f7f7"
            ],
            [
             0.6,
             "#e6f5d0"
            ],
            [
             0.7,
             "#b8e186"
            ],
            [
             0.8,
             "#7fbc41"
            ],
            [
             0.9,
             "#4d9221"
            ],
            [
             1,
             "#276419"
            ]
           ],
           "sequential": [
            [
             0,
             "#0d0887"
            ],
            [
             0.1111111111111111,
             "#46039f"
            ],
            [
             0.2222222222222222,
             "#7201a8"
            ],
            [
             0.3333333333333333,
             "#9c179e"
            ],
            [
             0.4444444444444444,
             "#bd3786"
            ],
            [
             0.5555555555555556,
             "#d8576b"
            ],
            [
             0.6666666666666666,
             "#ed7953"
            ],
            [
             0.7777777777777778,
             "#fb9f3a"
            ],
            [
             0.8888888888888888,
             "#fdca26"
            ],
            [
             1,
             "#f0f921"
            ]
           ],
           "sequentialminus": [
            [
             0,
             "#0d0887"
            ],
            [
             0.1111111111111111,
             "#46039f"
            ],
            [
             0.2222222222222222,
             "#7201a8"
            ],
            [
             0.3333333333333333,
             "#9c179e"
            ],
            [
             0.4444444444444444,
             "#bd3786"
            ],
            [
             0.5555555555555556,
             "#d8576b"
            ],
            [
             0.6666666666666666,
             "#ed7953"
            ],
            [
             0.7777777777777778,
             "#fb9f3a"
            ],
            [
             0.8888888888888888,
             "#fdca26"
            ],
            [
             1,
             "#f0f921"
            ]
           ]
          },
          "colorway": [
           "#636efa",
           "#EF553B",
           "#00cc96",
           "#ab63fa",
           "#FFA15A",
           "#19d3f3",
           "#FF6692",
           "#B6E880",
           "#FF97FF",
           "#FECB52"
          ],
          "font": {
           "color": "#2a3f5f"
          },
          "geo": {
           "bgcolor": "white",
           "lakecolor": "white",
           "landcolor": "#E5ECF6",
           "showlakes": true,
           "showland": true,
           "subunitcolor": "white"
          },
          "hoverlabel": {
           "align": "left"
          },
          "hovermode": "closest",
          "mapbox": {
           "style": "light"
          },
          "paper_bgcolor": "white",
          "plot_bgcolor": "#E5ECF6",
          "polar": {
           "angularaxis": {
            "gridcolor": "white",
            "linecolor": "white",
            "ticks": ""
           },
           "bgcolor": "#E5ECF6",
           "radialaxis": {
            "gridcolor": "white",
            "linecolor": "white",
            "ticks": ""
           }
          },
          "scene": {
           "xaxis": {
            "backgroundcolor": "#E5ECF6",
            "gridcolor": "white",
            "gridwidth": 2,
            "linecolor": "white",
            "showbackground": true,
            "ticks": "",
            "zerolinecolor": "white"
           },
           "yaxis": {
            "backgroundcolor": "#E5ECF6",
            "gridcolor": "white",
            "gridwidth": 2,
            "linecolor": "white",
            "showbackground": true,
            "ticks": "",
            "zerolinecolor": "white"
           },
           "zaxis": {
            "backgroundcolor": "#E5ECF6",
            "gridcolor": "white",
            "gridwidth": 2,
            "linecolor": "white",
            "showbackground": true,
            "ticks": "",
            "zerolinecolor": "white"
           }
          },
          "shapedefaults": {
           "line": {
            "color": "#2a3f5f"
           }
          },
          "ternary": {
           "aaxis": {
            "gridcolor": "white",
            "linecolor": "white",
            "ticks": ""
           },
           "baxis": {
            "gridcolor": "white",
            "linecolor": "white",
            "ticks": ""
           },
           "bgcolor": "#E5ECF6",
           "caxis": {
            "gridcolor": "white",
            "linecolor": "white",
            "ticks": ""
           }
          },
          "title": {
           "x": 0.05
          },
          "xaxis": {
           "automargin": true,
           "gridcolor": "white",
           "linecolor": "white",
           "ticks": "",
           "title": {
            "standoff": 15
           },
           "zerolinecolor": "white",
           "zerolinewidth": 2
          },
          "yaxis": {
           "automargin": true,
           "gridcolor": "white",
           "linecolor": "white",
           "ticks": "",
           "title": {
            "standoff": 15
           },
           "zerolinecolor": "white",
           "zerolinewidth": 2
          }
         }
        },
        "title": {
         "text": "Interactive: EmpLastSalaryHikePercent vs ExperienceYearsInCurrentRole"
        },
        "xaxis": {
         "anchor": "y",
         "domain": [
          0,
          1
         ],
         "title": {
          "text": "EmpLastSalaryHikePercent"
         }
        },
        "yaxis": {
         "anchor": "x",
         "domain": [
          0,
          1
         ],
         "title": {
          "text": "ExperienceYearsInCurrentRole"
         }
        }
       }
      }
     },
     "metadata": {},
     "output_type": "display_data"
    },
    {
     "data": {
      "application/vnd.plotly.v1+json": {
       "config": {
        "plotlyServerURL": "https://plot.ly"
       },
       "data": [
        {
         "domain": {
          "x": [
           0,
           1
          ],
          "y": [
           0,
           1
          ]
         },
         "hovertemplate": "label=%{label}<br>value=%{value}<extra></extra>",
         "labels": [
          "Average",
          "Below Average",
          "Good"
         ],
         "legendgroup": "",
         "name": "",
         "showlegend": true,
         "type": "pie",
         "values": {
          "bdata": "tQAmABUA",
          "dtype": "i2"
         }
        }
       ],
       "layout": {
        "legend": {
         "tracegroupgap": 0
        },
        "template": {
         "data": {
          "bar": [
           {
            "error_x": {
             "color": "#2a3f5f"
            },
            "error_y": {
             "color": "#2a3f5f"
            },
            "marker": {
             "line": {
              "color": "#E5ECF6",
              "width": 0.5
             },
             "pattern": {
              "fillmode": "overlay",
              "size": 10,
              "solidity": 0.2
             }
            },
            "type": "bar"
           }
          ],
          "barpolar": [
           {
            "marker": {
             "line": {
              "color": "#E5ECF6",
              "width": 0.5
             },
             "pattern": {
              "fillmode": "overlay",
              "size": 10,
              "solidity": 0.2
             }
            },
            "type": "barpolar"
           }
          ],
          "carpet": [
           {
            "aaxis": {
             "endlinecolor": "#2a3f5f",
             "gridcolor": "white",
             "linecolor": "white",
             "minorgridcolor": "white",
             "startlinecolor": "#2a3f5f"
            },
            "baxis": {
             "endlinecolor": "#2a3f5f",
             "gridcolor": "white",
             "linecolor": "white",
             "minorgridcolor": "white",
             "startlinecolor": "#2a3f5f"
            },
            "type": "carpet"
           }
          ],
          "choropleth": [
           {
            "colorbar": {
             "outlinewidth": 0,
             "ticks": ""
            },
            "type": "choropleth"
           }
          ],
          "contour": [
           {
            "colorbar": {
             "outlinewidth": 0,
             "ticks": ""
            },
            "colorscale": [
             [
              0,
              "#0d0887"
             ],
             [
              0.1111111111111111,
              "#46039f"
             ],
             [
              0.2222222222222222,
              "#7201a8"
             ],
             [
              0.3333333333333333,
              "#9c179e"
             ],
             [
              0.4444444444444444,
              "#bd3786"
             ],
             [
              0.5555555555555556,
              "#d8576b"
             ],
             [
              0.6666666666666666,
              "#ed7953"
             ],
             [
              0.7777777777777778,
              "#fb9f3a"
             ],
             [
              0.8888888888888888,
              "#fdca26"
             ],
             [
              1,
              "#f0f921"
             ]
            ],
            "type": "contour"
           }
          ],
          "contourcarpet": [
           {
            "colorbar": {
             "outlinewidth": 0,
             "ticks": ""
            },
            "type": "contourcarpet"
           }
          ],
          "heatmap": [
           {
            "colorbar": {
             "outlinewidth": 0,
             "ticks": ""
            },
            "colorscale": [
             [
              0,
              "#0d0887"
             ],
             [
              0.1111111111111111,
              "#46039f"
             ],
             [
              0.2222222222222222,
              "#7201a8"
             ],
             [
              0.3333333333333333,
              "#9c179e"
             ],
             [
              0.4444444444444444,
              "#bd3786"
             ],
             [
              0.5555555555555556,
              "#d8576b"
             ],
             [
              0.6666666666666666,
              "#ed7953"
             ],
             [
              0.7777777777777778,
              "#fb9f3a"
             ],
             [
              0.8888888888888888,
              "#fdca26"
             ],
             [
              1,
              "#f0f921"
             ]
            ],
            "type": "heatmap"
           }
          ],
          "histogram": [
           {
            "marker": {
             "pattern": {
              "fillmode": "overlay",
              "size": 10,
              "solidity": 0.2
             }
            },
            "type": "histogram"
           }
          ],
          "histogram2d": [
           {
            "colorbar": {
             "outlinewidth": 0,
             "ticks": ""
            },
            "colorscale": [
             [
              0,
              "#0d0887"
             ],
             [
              0.1111111111111111,
              "#46039f"
             ],
             [
              0.2222222222222222,
              "#7201a8"
             ],
             [
              0.3333333333333333,
              "#9c179e"
             ],
             [
              0.4444444444444444,
              "#bd3786"
             ],
             [
              0.5555555555555556,
              "#d8576b"
             ],
             [
              0.6666666666666666,
              "#ed7953"
             ],
             [
              0.7777777777777778,
              "#fb9f3a"
             ],
             [
              0.8888888888888888,
              "#fdca26"
             ],
             [
              1,
              "#f0f921"
             ]
            ],
            "type": "histogram2d"
           }
          ],
          "histogram2dcontour": [
           {
            "colorbar": {
             "outlinewidth": 0,
             "ticks": ""
            },
            "colorscale": [
             [
              0,
              "#0d0887"
             ],
             [
              0.1111111111111111,
              "#46039f"
             ],
             [
              0.2222222222222222,
              "#7201a8"
             ],
             [
              0.3333333333333333,
              "#9c179e"
             ],
             [
              0.4444444444444444,
              "#bd3786"
             ],
             [
              0.5555555555555556,
              "#d8576b"
             ],
             [
              0.6666666666666666,
              "#ed7953"
             ],
             [
              0.7777777777777778,
              "#fb9f3a"
             ],
             [
              0.8888888888888888,
              "#fdca26"
             ],
             [
              1,
              "#f0f921"
             ]
            ],
            "type": "histogram2dcontour"
           }
          ],
          "mesh3d": [
           {
            "colorbar": {
             "outlinewidth": 0,
             "ticks": ""
            },
            "type": "mesh3d"
           }
          ],
          "parcoords": [
           {
            "line": {
             "colorbar": {
              "outlinewidth": 0,
              "ticks": ""
             }
            },
            "type": "parcoords"
           }
          ],
          "pie": [
           {
            "automargin": true,
            "type": "pie"
           }
          ],
          "scatter": [
           {
            "fillpattern": {
             "fillmode": "overlay",
             "size": 10,
             "solidity": 0.2
            },
            "type": "scatter"
           }
          ],
          "scatter3d": [
           {
            "line": {
             "colorbar": {
              "outlinewidth": 0,
              "ticks": ""
             }
            },
            "marker": {
             "colorbar": {
              "outlinewidth": 0,
              "ticks": ""
             }
            },
            "type": "scatter3d"
           }
          ],
          "scattercarpet": [
           {
            "marker": {
             "colorbar": {
              "outlinewidth": 0,
              "ticks": ""
             }
            },
            "type": "scattercarpet"
           }
          ],
          "scattergeo": [
           {
            "marker": {
             "colorbar": {
              "outlinewidth": 0,
              "ticks": ""
             }
            },
            "type": "scattergeo"
           }
          ],
          "scattergl": [
           {
            "marker": {
             "colorbar": {
              "outlinewidth": 0,
              "ticks": ""
             }
            },
            "type": "scattergl"
           }
          ],
          "scattermap": [
           {
            "marker": {
             "colorbar": {
              "outlinewidth": 0,
              "ticks": ""
             }
            },
            "type": "scattermap"
           }
          ],
          "scattermapbox": [
           {
            "marker": {
             "colorbar": {
              "outlinewidth": 0,
              "ticks": ""
             }
            },
            "type": "scattermapbox"
           }
          ],
          "scatterpolar": [
           {
            "marker": {
             "colorbar": {
              "outlinewidth": 0,
              "ticks": ""
             }
            },
            "type": "scatterpolar"
           }
          ],
          "scatterpolargl": [
           {
            "marker": {
             "colorbar": {
              "outlinewidth": 0,
              "ticks": ""
             }
            },
            "type": "scatterpolargl"
           }
          ],
          "scatterternary": [
           {
            "marker": {
             "colorbar": {
              "outlinewidth": 0,
              "ticks": ""
             }
            },
            "type": "scatterternary"
           }
          ],
          "surface": [
           {
            "colorbar": {
             "outlinewidth": 0,
             "ticks": ""
            },
            "colorscale": [
             [
              0,
              "#0d0887"
             ],
             [
              0.1111111111111111,
              "#46039f"
             ],
             [
              0.2222222222222222,
              "#7201a8"
             ],
             [
              0.3333333333333333,
              "#9c179e"
             ],
             [
              0.4444444444444444,
              "#bd3786"
             ],
             [
              0.5555555555555556,
              "#d8576b"
             ],
             [
              0.6666666666666666,
              "#ed7953"
             ],
             [
              0.7777777777777778,
              "#fb9f3a"
             ],
             [
              0.8888888888888888,
              "#fdca26"
             ],
             [
              1,
              "#f0f921"
             ]
            ],
            "type": "surface"
           }
          ],
          "table": [
           {
            "cells": {
             "fill": {
              "color": "#EBF0F8"
             },
             "line": {
              "color": "white"
             }
            },
            "header": {
             "fill": {
              "color": "#C8D4E3"
             },
             "line": {
              "color": "white"
             }
            },
            "type": "table"
           }
          ]
         },
         "layout": {
          "annotationdefaults": {
           "arrowcolor": "#2a3f5f",
           "arrowhead": 0,
           "arrowwidth": 1
          },
          "autotypenumbers": "strict",
          "coloraxis": {
           "colorbar": {
            "outlinewidth": 0,
            "ticks": ""
           }
          },
          "colorscale": {
           "diverging": [
            [
             0,
             "#8e0152"
            ],
            [
             0.1,
             "#c51b7d"
            ],
            [
             0.2,
             "#de77ae"
            ],
            [
             0.3,
             "#f1b6da"
            ],
            [
             0.4,
             "#fde0ef"
            ],
            [
             0.5,
             "#f7f7f7"
            ],
            [
             0.6,
             "#e6f5d0"
            ],
            [
             0.7,
             "#b8e186"
            ],
            [
             0.8,
             "#7fbc41"
            ],
            [
             0.9,
             "#4d9221"
            ],
            [
             1,
             "#276419"
            ]
           ],
           "sequential": [
            [
             0,
             "#0d0887"
            ],
            [
             0.1111111111111111,
             "#46039f"
            ],
            [
             0.2222222222222222,
             "#7201a8"
            ],
            [
             0.3333333333333333,
             "#9c179e"
            ],
            [
             0.4444444444444444,
             "#bd3786"
            ],
            [
             0.5555555555555556,
             "#d8576b"
            ],
            [
             0.6666666666666666,
             "#ed7953"
            ],
            [
             0.7777777777777778,
             "#fb9f3a"
            ],
            [
             0.8888888888888888,
             "#fdca26"
            ],
            [
             1,
             "#f0f921"
            ]
           ],
           "sequentialminus": [
            [
             0,
             "#0d0887"
            ],
            [
             0.1111111111111111,
             "#46039f"
            ],
            [
             0.2222222222222222,
             "#7201a8"
            ],
            [
             0.3333333333333333,
             "#9c179e"
            ],
            [
             0.4444444444444444,
             "#bd3786"
            ],
            [
             0.5555555555555556,
             "#d8576b"
            ],
            [
             0.6666666666666666,
             "#ed7953"
            ],
            [
             0.7777777777777778,
             "#fb9f3a"
            ],
            [
             0.8888888888888888,
             "#fdca26"
            ],
            [
             1,
             "#f0f921"
            ]
           ]
          },
          "colorway": [
           "#636efa",
           "#EF553B",
           "#00cc96",
           "#ab63fa",
           "#FFA15A",
           "#19d3f3",
           "#FF6692",
           "#B6E880",
           "#FF97FF",
           "#FECB52"
          ],
          "font": {
           "color": "#2a3f5f"
          },
          "geo": {
           "bgcolor": "white",
           "lakecolor": "white",
           "landcolor": "#E5ECF6",
           "showlakes": true,
           "showland": true,
           "subunitcolor": "white"
          },
          "hoverlabel": {
           "align": "left"
          },
          "hovermode": "closest",
          "mapbox": {
           "style": "light"
          },
          "paper_bgcolor": "white",
          "plot_bgcolor": "#E5ECF6",
          "polar": {
           "angularaxis": {
            "gridcolor": "white",
            "linecolor": "white",
            "ticks": ""
           },
           "bgcolor": "#E5ECF6",
           "radialaxis": {
            "gridcolor": "white",
            "linecolor": "white",
            "ticks": ""
           }
          },
          "scene": {
           "xaxis": {
            "backgroundcolor": "#E5ECF6",
            "gridcolor": "white",
            "gridwidth": 2,
            "linecolor": "white",
            "showbackground": true,
            "ticks": "",
            "zerolinecolor": "white"
           },
           "yaxis": {
            "backgroundcolor": "#E5ECF6",
            "gridcolor": "white",
            "gridwidth": 2,
            "linecolor": "white",
            "showbackground": true,
            "ticks": "",
            "zerolinecolor": "white"
           },
           "zaxis": {
            "backgroundcolor": "#E5ECF6",
            "gridcolor": "white",
            "gridwidth": 2,
            "linecolor": "white",
            "showbackground": true,
            "ticks": "",
            "zerolinecolor": "white"
           }
          },
          "shapedefaults": {
           "line": {
            "color": "#2a3f5f"
           }
          },
          "ternary": {
           "aaxis": {
            "gridcolor": "white",
            "linecolor": "white",
            "ticks": ""
           },
           "baxis": {
            "gridcolor": "white",
            "linecolor": "white",
            "ticks": ""
           },
           "bgcolor": "#E5ECF6",
           "caxis": {
            "gridcolor": "white",
            "linecolor": "white",
            "ticks": ""
           }
          },
          "title": {
           "x": 0.05
          },
          "xaxis": {
           "automargin": true,
           "gridcolor": "white",
           "linecolor": "white",
           "ticks": "",
           "title": {
            "standoff": 15
           },
           "zerolinecolor": "white",
           "zerolinewidth": 2
          },
          "yaxis": {
           "automargin": true,
           "gridcolor": "white",
           "linecolor": "white",
           "ticks": "",
           "title": {
            "standoff": 15
           },
           "zerolinecolor": "white",
           "zerolinewidth": 2
          }
         }
        },
        "title": {
         "text": "Interactive Performance Categories Distribution"
        }
       }
      }
     },
     "metadata": {},
     "output_type": "display_data"
    },
    {
     "name": "stdout",
     "output_type": "stream",
     "text": [
      "✓ Interactive visualizations created successfully\n"
     ]
    }
   ],
   "source": [
    "# =============================================================================\n",
    "# 5. INTERACTIVE PLOTLY VISUALIZATIONS\n",
    "# =============================================================================\n",
    "\n",
    "def create_interactive_plots(predictions_df):\n",
    "    \"\"\"Create interactive Plotly visualizations\"\"\"\n",
    "    \n",
    "    print(\"\\n\" + \"=\"*50)\n",
    "    print(\"CREATING INTERACTIVE VISUALIZATIONS...\")\n",
    "    print(\"=\"*50)\n",
    "    \n",
    "    # 1. Interactive Performance Distribution\n",
    "    fig1 = px.histogram(predictions_df, x='Predicted_Rating', \n",
    "                        title='Interactive Performance Rating Distribution',\n",
    "                       color='Predicted_Rating',\n",
    "                       color_discrete_sequence=px.colors.qualitative.Set3)\n",
    "    fig1.update_layout(showlegend=False)\n",
    "    fig1.show()\n",
    "\n",
    "    \n",
    "    # 2. Interactive Scatter Plot (if we have continuous features)\n",
    "    continuous_features = []\n",
    "    for col in predictions_df.columns:\n",
    "        if predictions_df[col].dtype in ['int64', 'float64'] and predictions_df[col].nunique() > 10:\n",
    "            if col not in ['Employee_ID', 'Predicted_Rating', 'Actual_Rating']:\n",
    "                continuous_features.append(col)\n",
    "    \n",
    "    if len(continuous_features) >= 2:\n",
    "        fig2 = px.scatter(predictions_df, \n",
    "                         x=continuous_features[0], \n",
    "                         y=continuous_features[1],\n",
    "                         color='Predicted_Rating',\n",
    "                         title=f'Interactive: {continuous_features[0]} vs {continuous_features[1]}',\n",
    "                         color_continuous_scale='RdYlGn',\n",
    "                         hover_data=['Predicted_Category'])\n",
    "        fig2.show()\n",
    "    \n",
    "    # 3. Interactive Category Distribution\n",
    "    category_counts = predictions_df['Predicted_Category'].value_counts()\n",
    "    fig3 = px.pie(values=category_counts.values, names=category_counts.index,\n",
    "                  title='Interactive Performance Categories Distribution')\n",
    "    fig3.show()\n",
    "    \n",
    "    print(\"✓ Interactive visualizations created successfully\")\n",
    "\n",
    "# Create interactive plots\n",
    "try:\n",
    "    create_interactive_plots(predictions_df)\n",
    "except ImportError:\n",
    "    print(\"⚠️  Plotly not available for interactive plots. Skipping...\")"
   ]
  },
  {
   "cell_type": "code",
   "execution_count": 20,
   "id": "6ad142cc",
   "metadata": {},
   "outputs": [],
   "source": [
    "# =============================================================================\n",
    "# SUMMARY REPORT\n",
    "# =============================================================================\n",
    "\n",
    "def generate_visualization_summary(predictions_df):\n",
    "    \"\"\"Generate a comprehensive visualization summary\"\"\"\n",
    "    \n",
    "    print(\"\\n\" + \"=\"*60)\n",
    "    print(\"📊 VISUALIZATION SUMMARY REPORT\")\n",
    "    print(\"=\"*60)\n",
    "    \n",
    "    total_employees = len(predictions_df)\n",
    "    \n",
    "    print(f\"📈 ANALYSIS COMPLETED FOR {total_employees:,} EMPLOYEES\")\n",
    "    print(\"-\" * 50)\n",
    "    \n",
    "    # Rating distribution\n",
    "    rating_counts = predictions_df['Predicted_Rating'].value_counts().sort_index()\n",
    "    print(\"🎯 PERFORMANCE RATING DISTRIBUTION:\")\n",
    "    for rating, count in rating_counts.items():\n",
    "        rating_name = {1: 'Poor', 2: 'Below Average', 3: 'Average', 4: 'Good', 5: 'Excellent'}[rating]\n",
    "        percentage = (count / total_employees) * 100\n",
    "        print(f\"   {rating_name} ({rating}): {count:,} employees ({percentage:.1f}%)\")\n",
    "    \n",
    "    # Key insights\n",
    "    high_performers = (predictions_df['Predicted_Rating'] >= 4).sum()\n",
    "    low_performers = (predictions_df['Predicted_Rating'] <= 2).sum()\n",
    "    avg_rating = predictions_df['Predicted_Rating'].mean()\n",
    "    \n",
    "    print(f\"\\n🔍 KEY INSIGHTS:\")\n",
    "    print(f\"   • Average Rating: {avg_rating:.2f}/5.0\")\n",
    "    print(f\"   • High Performers (4-5): {high_performers:,} ({high_performers/total_employees*100:.1f}%)\")\n",
    "    print(f\"   • Low Performers (1-2): {low_performers:,} ({low_performers/total_employees*100:.1f}%)\")\n",
    "    print(f\"   • Employees needing attention: {low_performers:,}\")\n",
    "    print(f\"   • Star performers for recognition: {(predictions_df['Predicted_Rating'] == 5).sum():,}\")\n",
    "    \n",
    "    print(f\"\\n✅ VISUALIZATIONS CREATED:\")\n",
    "    print(\"   ✓ Prediction Distribution Analysis\")\n",
    "    print(\"   ✓ Feature Analysis Plots\")\n",
    "    print(\"   ✓ Department & Role Analysis\")\n",
    "    if feature_importance is not None:\n",
    "        print(\"   ✓ Feature Importance Visualization\")\n",
    "    print(\"   ✓ Interactive Plotly Charts\")\n",
    "    \n",
    "    print(f\"\\n📁 DATA SOURCES USED:\")\n",
    "    print(f\"   • Predictions: {PREDICTIONS_PATH}\")\n",
    "    print(f\"   • Model: {MODEL_PATH}\")\n",
    "    if feature_importance is not None:\n",
    "        print(\"   • Feature Importance: Extracted from model\")\n",
    "    \n",
    "    print(\"\\n\" + \"=\"*60)\n",
    "    print(\"🎉 VISUALIZATION ANALYSIS COMPLETED SUCCESSFULLY!\")\n",
    "    print(\"=\"*60)\n",
    "\n"
   ]
  },
  {
   "cell_type": "code",
   "execution_count": 21,
   "id": "4c1853ed",
   "metadata": {},
   "outputs": [
    {
     "name": "stdout",
     "output_type": "stream",
     "text": [
      "\n",
      "============================================================\n",
      "📊 VISUALIZATION SUMMARY REPORT\n",
      "============================================================\n",
      "📈 ANALYSIS COMPLETED FOR 240 EMPLOYEES\n",
      "--------------------------------------------------\n",
      "🎯 PERFORMANCE RATING DISTRIBUTION:\n",
      "   Below Average (2): 38 employees (15.8%)\n",
      "   Average (3): 181 employees (75.4%)\n",
      "   Good (4): 21 employees (8.8%)\n",
      "\n",
      "🔍 KEY INSIGHTS:\n",
      "   • Average Rating: 2.93/5.0\n",
      "   • High Performers (4-5): 21 (8.8%)\n",
      "   • Low Performers (1-2): 38 (15.8%)\n",
      "   • Employees needing attention: 38\n",
      "   • Star performers for recognition: 0\n",
      "\n",
      "✅ VISUALIZATIONS CREATED:\n",
      "   ✓ Prediction Distribution Analysis\n",
      "   ✓ Feature Analysis Plots\n",
      "   ✓ Department & Role Analysis\n",
      "   ✓ Feature Importance Visualization\n",
      "   ✓ Interactive Plotly Charts\n",
      "\n",
      "📁 DATA SOURCES USED:\n",
      "   • Predictions: C:\\Users\\aksha\\OneDrive\\Documents\\Asha\\Projects\\Employment_Performance_Analysis\\Data\\processed\\employee_predictions.csv\n",
      "   • Model: C:\\Users\\aksha\\OneDrive\\Documents\\Asha\\Projects\\Employment_Performance_Analysis\\Source Code\\models\\best_model.pkl\n",
      "   • Feature Importance: Extracted from model\n",
      "\n",
      "============================================================\n",
      "🎉 VISUALIZATION ANALYSIS COMPLETED SUCCESSFULLY!\n",
      "============================================================\n"
     ]
    }
   ],
   "source": [
    "generate_visualization_summary(predictions_df)"
   ]
  }
 ],
 "metadata": {
  "kernelspec": {
   "display_name": ".venv",
   "language": "python",
   "name": "python3"
  },
  "language_info": {
   "codemirror_mode": {
    "name": "ipython",
    "version": 3
   },
   "file_extension": ".py",
   "mimetype": "text/x-python",
   "name": "python",
   "nbconvert_exporter": "python",
   "pygments_lexer": "ipython3",
   "version": "3.12.7"
  }
 },
 "nbformat": 4,
 "nbformat_minor": 5
}
